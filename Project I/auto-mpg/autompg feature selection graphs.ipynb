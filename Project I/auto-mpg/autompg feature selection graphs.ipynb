{
 "cells": [
  {
   "cell_type": "code",
   "execution_count": 4,
   "id": "d5a21e8b",
   "metadata": {},
   "outputs": [],
   "source": [
    "import pandas as pd\n",
    "import numpy as np\n",
    "import seaborn as sns\n",
    "import matplotlib.pyplot as plt\n",
    "from sklearn.feature_selection import SequentialFeatureSelector, RFE\n",
    "from sklearn.linear_model import LinearRegression, Ridge, Lasso, RidgeCV, LassoCV\n",
    "from sklearn.preprocessing import PolynomialFeatures\n",
    "from gplearn.genetic import SymbolicRegressor\n",
    "from mlxtend.plotting import plot_sequential_feature_selection as plot_sfs\n",
    "from mlxtend.feature_selection import SequentialFeatureSelector as SFS\n",
    "import matplotlib.pyplot as plt\n",
    "from sklearn.neighbors import KNeighborsClassifier\n",
    "\n",
    "\n",
    "df = pd.read_csv('auto-mpg.csv', encoding= 'unicode_escape')\n",
    "df = df.drop(['model'], axis=1)                             #Unique String for each row, not needed\n",
    "for i in range(7):                                          #Dropping Missing Data rows\n",
    "    df=df[df.iloc[:,i] != '?']\n",
    "X = df.drop(['mpg'],axis=1)\n",
    "y = df['mpg']\n",
    "y_test = y[:-312]\n",
    "y_train = y[-312:]\n",
    "\n"
   ]
  },
  {
   "cell_type": "code",
   "execution_count": 13,
   "id": "00adf918",
   "metadata": {},
   "outputs": [],
   "source": [
    "x_train = X[-312:] \n",
    "x_test = X[:-312]\n",
    "\n",
    "def graph (model, thing, name):\n",
    "    plt.clf()\n",
    "    sfs = SFS(model, \n",
    "          k_features=4, \n",
    "          forward=thing, \n",
    "          cv=5)\n",
    "\n",
    "    sfs = sfs.fit(x_test, y_test)\n",
    "\n",
    "    fig1 = plot_sfs(sfs.get_metric_dict(),\n",
    "                kind='std_dev',\n",
    "                figsize=(6, 4))\n",
    "\n",
    "    plt.ylim([0.0, 1])\n",
    "    if bool:\n",
    "        word = \"Forward\"\n",
    "    else:\n",
    "        word = \"Backward\"\n",
    "    plt.title(f'Sequential {word} for {name} Selection (w. StdDev)')\n",
    "    plt.grid()\n",
    "    plt.show()"
   ]
  },
  {
   "cell_type": "markdown",
   "id": "13c4abdf",
   "metadata": {},
   "source": []
  },
  {
   "cell_type": "code",
   "execution_count": null,
   "id": "74f7c0aa",
   "metadata": {},
   "outputs": [],
   "source": [
    "linear = LinearRegression().fit(x_train,y_train)\n",
    "ridge = RidgeCV().fit(x_train,y_train)\n",
    "lasso = LassoCV().fit(x_train,y_train)\n",
    "                      \n",
    "quad = PolynomialFeatures(degree=2)\n",
    "train = quad.fit_transform(x_train)\n",
    "test = quad.fit_transform(x_test)\n",
    "quad = LinearRegression().fit(train,y_train)\n",
    "\n",
    "graph(linear,True, \"linear\")\n",
    "graph(linear,False, \"linear\")\n",
    "graph(ridge, True, \"ridge\")\n",
    "graph(ridge, False, \"ridge\")\n",
    "graph(lasso, True, \"lasso\")\n",
    "graph(lasso, False, \"lasso\")\n",
    "graph(quad, True, \"quad\")\n",
    "graph(quad, False, \"quad\")"
   ]
  },
  {
   "cell_type": "code",
   "execution_count": null,
   "id": "db2af21e",
   "metadata": {},
   "outputs": [],
   "source": []
  }
 ],
 "metadata": {
  "kernelspec": {
   "display_name": "Python 3 (ipykernel)",
   "language": "python",
   "name": "python3"
  },
  "language_info": {
   "codemirror_mode": {
    "name": "ipython",
    "version": 3
   },
   "file_extension": ".py",
   "mimetype": "text/x-python",
   "name": "python",
   "nbconvert_exporter": "python",
   "pygments_lexer": "ipython3",
   "version": "3.9.7"
  }
 },
 "nbformat": 4,
 "nbformat_minor": 5
}
