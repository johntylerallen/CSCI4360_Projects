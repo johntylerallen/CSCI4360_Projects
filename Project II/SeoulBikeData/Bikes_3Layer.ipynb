{
 "cells": [
  {
   "cell_type": "code",
   "execution_count": 41,
   "id": "275b1762",
   "metadata": {},
   "outputs": [],
   "source": [
    "from tensorflow.keras.layers import Dense, Input\n",
    "from tensorflow.keras.models import Sequential\n",
    "import pandas as pd\n",
    "import numpy as np\n",
    "import seaborn as sns\n",
    "import matplotlib.pyplot as plt\n",
    "import keras\n",
    "from sklearn.metrics import r2_score\n",
    "from tensorflow.keras.optimizers import Adam\n",
    "from sklearn.feature_selection import SequentialFeatureSelector, RFE\n",
    "from sklearn.linear_model import LinearRegression\n",
    "from tqdm.keras import TqdmCallback\n",
    "\n",
    "#Data Import\n",
    "df = pd.read_csv('Bikes.csv', encoding= 'unicode_escape')\n",
    "X, y = df.drop(['Bikes'], axis =1), df['Bikes']\n",
    "\n",
    "def coeff_determination(y, yhat):\n",
    "    \"\"\"Calculates the R2\"\"\"\n",
    "    from keras import backend as K\n",
    "    SS_res = K.sum(K.square(y-yhat))\n",
    "    SS_tot = K.sum(K.square(y -K.mean(yhat)))\n",
    "    return (1-SS_res/(SS_tot + K.epsilon()))\n",
    "\n",
    "def r2_adjusted(x, r2):\n",
    "    \"\"\"Calculates the R2 Adjusted\"\"\"\n",
    "    m, n = x.shape\n",
    "    r_df = (m-1)/(m-n)\n",
    "    return 1-(r_df*(1-r2))\n",
    "              \n",
    "def ThreeL_NN(num_feat, act, epoch, learnrate):\n",
    "    \"\"\" Creates the Sequential Model as dataset has one output, inputs are placed in the model \n",
    "        and 1 hidden layer then output layer. The optimizer used for the NN is Adam. A plot of \n",
    "        MSE vs Epochs and R2 vs Epochs is printed at the end. R2, R2 Bar and R2 CV are returned.\n",
    "    \"\"\"\n",
    "    model = Sequential()\n",
    "    model.add(Input(shape=(num_feat,)))\n",
    "    model.add(Dense(units=24, activation=act))\n",
    "    model.add(Dense(units=1))\n",
    "    optimizer = Adam(learning_rate=learnrate)\n",
    "    model.compile(optimizer=optimizer, loss='mse', metrics=['mse', coeff_determination])\n",
    "    fit_model = model.fit(x=x_train, y=y_train, epochs=epoch, batch_size=32, validation_split=0.2, verbose=0, callbacks=[TqdmCallback()])\n",
    "    plt.clf()\n",
    "    plt.plot([i for i in range(epoch)], fit_model.history['mse'], label=\"mse\")\n",
    "    plt.title(f\"{act}: {learnrate}\")\n",
    "    plt.legend()\n",
    "    plt.show()\n",
    "    plt.plot([i for i in range(epoch)], fit_model.history['coeff_determination'], label=\"R2\")\n",
    "    plt.legend()\n",
    "    return (fit_model.history['coeff_determination'][-1], r2_score(y_test, model(x_test)), r2_adjusted(x_train,fit_model.history['coeff_determination'][-1])"
   ]
  },
  {
   "cell_type": "markdown",
   "id": "44d24a7a",
   "metadata": {},
   "source": [
    "# 3 Layer  Model"
   ]
  },
  {
   "cell_type": "code",
   "execution_count": 48,
   "id": "e8a68c3e",
   "metadata": {},
   "outputs": [
    {
     "data": {
      "application/vnd.jupyter.widget-view+json": {
       "model_id": "3f571632c25e45b58c8167661b1c53c2",
       "version_major": 2,
       "version_minor": 0
      },
      "text/plain": [
       "0epoch [00:00, ?epoch/s]"
      ]
     },
     "metadata": {},
     "output_type": "display_data"
    },
    {
     "data": {
      "application/vnd.jupyter.widget-view+json": {
       "model_id": "",
       "version_major": 2,
       "version_minor": 0
      },
      "text/plain": [
       "0batch [00:00, ?batch/s]"
      ]
     },
     "metadata": {},
     "output_type": "display_data"
    },
    {
     "data": {
      "application/vnd.jupyter.widget-view+json": {
       "model_id": "c45e44a52c5b4ddbad392622b6e5ce7d",
       "version_major": 2,
       "version_minor": 0
      },
      "text/plain": [
       "0epoch [00:00, ?epoch/s]"
      ]
     },
     "metadata": {},
     "output_type": "display_data"
    },
    {
     "data": {
      "application/vnd.jupyter.widget-view+json": {
       "model_id": "",
       "version_major": 2,
       "version_minor": 0
      },
      "text/plain": [
       "0batch [00:00, ?batch/s]"
      ]
     },
     "metadata": {},
     "output_type": "display_data"
    },
    {
     "data": {
      "application/vnd.jupyter.widget-view+json": {
       "model_id": "9c6fecec4f784fa99cd3e6b0c345b8a7",
       "version_major": 2,
       "version_minor": 0
      },
      "text/plain": [
       "0epoch [00:00, ?epoch/s]"
      ]
     },
     "metadata": {},
     "output_type": "display_data"
    },
    {
     "data": {
      "application/vnd.jupyter.widget-view+json": {
       "model_id": "",
       "version_major": 2,
       "version_minor": 0
      },
      "text/plain": [
       "0batch [00:00, ?batch/s]"
      ]
     },
     "metadata": {},
     "output_type": "display_data"
    },
    {
     "data": {
      "application/vnd.jupyter.widget-view+json": {
       "model_id": "135eb9fa1c2c4d6f914eb33a68541551",
       "version_major": 2,
       "version_minor": 0
      },
      "text/plain": [
       "0epoch [00:00, ?epoch/s]"
      ]
     },
     "metadata": {},
     "output_type": "display_data"
    },
    {
     "data": {
      "application/vnd.jupyter.widget-view+json": {
       "model_id": "",
       "version_major": 2,
       "version_minor": 0
      },
      "text/plain": [
       "0batch [00:00, ?batch/s]"
      ]
     },
     "metadata": {},
     "output_type": "display_data"
    },
    {
     "data": {
      "application/vnd.jupyter.widget-view+json": {
       "model_id": "eb5a27d595af4d179a2fbc8347bcfb9a",
       "version_major": 2,
       "version_minor": 0
      },
      "text/plain": [
       "0epoch [00:00, ?epoch/s]"
      ]
     },
     "metadata": {},
     "output_type": "display_data"
    },
    {
     "data": {
      "application/vnd.jupyter.widget-view+json": {
       "model_id": "",
       "version_major": 2,
       "version_minor": 0
      },
      "text/plain": [
       "0batch [00:00, ?batch/s]"
      ]
     },
     "metadata": {},
     "output_type": "display_data"
    },
    {
     "data": {
      "application/vnd.jupyter.widget-view+json": {
       "model_id": "e177771186744a3291747a7b93b04ee1",
       "version_major": 2,
       "version_minor": 0
      },
      "text/plain": [
       "0epoch [00:00, ?epoch/s]"
      ]
     },
     "metadata": {},
     "output_type": "display_data"
    },
    {
     "data": {
      "application/vnd.jupyter.widget-view+json": {
       "model_id": "",
       "version_major": 2,
       "version_minor": 0
      },
      "text/plain": [
       "0batch [00:00, ?batch/s]"
      ]
     },
     "metadata": {},
     "output_type": "display_data"
    },
    {
     "data": {
      "application/vnd.jupyter.widget-view+json": {
       "model_id": "8c49e51064474fed94bf0b65d08cacb7",
       "version_major": 2,
       "version_minor": 0
      },
      "text/plain": [
       "0epoch [00:00, ?epoch/s]"
      ]
     },
     "metadata": {},
     "output_type": "display_data"
    },
    {
     "data": {
      "application/vnd.jupyter.widget-view+json": {
       "model_id": "",
       "version_major": 2,
       "version_minor": 0
      },
      "text/plain": [
       "0batch [00:00, ?batch/s]"
      ]
     },
     "metadata": {},
     "output_type": "display_data"
    },
    {
     "name": "stdout",
     "output_type": "stream",
     "text": [
      "WARNING:tensorflow:Callback method `on_train_batch_end` is slow compared to the batch time (batch time: 0.0012s vs `on_train_batch_end` time: 0.0013s). Check your callbacks.\n"
     ]
    },
    {
     "data": {
      "application/vnd.jupyter.widget-view+json": {
       "model_id": "c827ec2cb51f442a961ce9e48cc4459d",
       "version_major": 2,
       "version_minor": 0
      },
      "text/plain": [
       "0epoch [00:00, ?epoch/s]"
      ]
     },
     "metadata": {},
     "output_type": "display_data"
    },
    {
     "data": {
      "application/vnd.jupyter.widget-view+json": {
       "model_id": "",
       "version_major": 2,
       "version_minor": 0
      },
      "text/plain": [
       "0batch [00:00, ?batch/s]"
      ]
     },
     "metadata": {},
     "output_type": "display_data"
    },
    {
     "data": {
      "application/vnd.jupyter.widget-view+json": {
       "model_id": "b4a03150c4a44da49999ed2b9d723553",
       "version_major": 2,
       "version_minor": 0
      },
      "text/plain": [
       "0epoch [00:00, ?epoch/s]"
      ]
     },
     "metadata": {},
     "output_type": "display_data"
    },
    {
     "data": {
      "application/vnd.jupyter.widget-view+json": {
       "model_id": "",
       "version_major": 2,
       "version_minor": 0
      },
      "text/plain": [
       "0batch [00:00, ?batch/s]"
      ]
     },
     "metadata": {},
     "output_type": "display_data"
    },
    {
     "data": {
      "text/html": [
       "<div>\n",
       "<style scoped>\n",
       "    .dataframe tbody tr th:only-of-type {\n",
       "        vertical-align: middle;\n",
       "    }\n",
       "\n",
       "    .dataframe tbody tr th {\n",
       "        vertical-align: top;\n",
       "    }\n",
       "\n",
       "    .dataframe thead th {\n",
       "        text-align: right;\n",
       "    }\n",
       "</style>\n",
       "<table border=\"1\" class=\"dataframe\">\n",
       "  <thead>\n",
       "    <tr style=\"text-align: right;\">\n",
       "      <th></th>\n",
       "      <th>Learning Rate</th>\n",
       "      <th>R2</th>\n",
       "      <th>R2 CV</th>\n",
       "      <th>R2 Adjusted</th>\n",
       "    </tr>\n",
       "  </thead>\n",
       "  <tbody>\n",
       "    <tr>\n",
       "      <th>sigm</th>\n",
       "      <td>0.001</td>\n",
       "      <td>0.000000</td>\n",
       "      <td>-0.004442</td>\n",
       "      <td>-0.005737</td>\n",
       "    </tr>\n",
       "    <tr>\n",
       "      <th>sigm</th>\n",
       "      <td>0.010</td>\n",
       "      <td>0.373401</td>\n",
       "      <td>0.360641</td>\n",
       "      <td>0.369806</td>\n",
       "    </tr>\n",
       "    <tr>\n",
       "      <th>sigm</th>\n",
       "      <td>0.100</td>\n",
       "      <td>0.423411</td>\n",
       "      <td>0.411020</td>\n",
       "      <td>0.420103</td>\n",
       "    </tr>\n",
       "    <tr>\n",
       "      <th>relu</th>\n",
       "      <td>0.001</td>\n",
       "      <td>0.509153</td>\n",
       "      <td>0.520797</td>\n",
       "      <td>0.506337</td>\n",
       "    </tr>\n",
       "    <tr>\n",
       "      <th>relu</th>\n",
       "      <td>0.010</td>\n",
       "      <td>0.631602</td>\n",
       "      <td>0.625762</td>\n",
       "      <td>0.629488</td>\n",
       "    </tr>\n",
       "    <tr>\n",
       "      <th>relu</th>\n",
       "      <td>0.100</td>\n",
       "      <td>0.517862</td>\n",
       "      <td>0.507335</td>\n",
       "      <td>0.515095</td>\n",
       "    </tr>\n",
       "    <tr>\n",
       "      <th>elu</th>\n",
       "      <td>0.001</td>\n",
       "      <td>0.549012</td>\n",
       "      <td>0.510165</td>\n",
       "      <td>0.546424</td>\n",
       "    </tr>\n",
       "    <tr>\n",
       "      <th>elu</th>\n",
       "      <td>0.010</td>\n",
       "      <td>0.655157</td>\n",
       "      <td>0.652716</td>\n",
       "      <td>0.653178</td>\n",
       "    </tr>\n",
       "    <tr>\n",
       "      <th>elu</th>\n",
       "      <td>0.100</td>\n",
       "      <td>0.554500</td>\n",
       "      <td>0.547766</td>\n",
       "      <td>0.551944</td>\n",
       "    </tr>\n",
       "  </tbody>\n",
       "</table>\n",
       "</div>"
      ],
      "text/plain": [
       "      Learning Rate        R2     R2 CV  R2 Adjusted\n",
       "sigm          0.001  0.000000 -0.004442    -0.005737\n",
       "sigm          0.010  0.373401  0.360641     0.369806\n",
       "sigm          0.100  0.423411  0.411020     0.420103\n",
       "relu          0.001  0.509153  0.520797     0.506337\n",
       "relu          0.010  0.631602  0.625762     0.629488\n",
       "relu          0.100  0.517862  0.507335     0.515095\n",
       "elu           0.001  0.549012  0.510165     0.546424\n",
       "elu           0.010  0.655157  0.652716     0.653178\n",
       "elu           0.100  0.554500  0.547766     0.551944"
      ]
     },
     "execution_count": 48,
     "metadata": {},
     "output_type": "execute_result"
    }
   ],
   "source": [
    "#Splitting training and testing sets (80/20)\n",
    "x_train, y_train = X[-7006:].to_numpy(), (y[-7006:]).to_numpy()\n",
    "x_test, y_test   = X[:-7006].to_numpy(), (y[:-7006]).to_numpy()\n",
    "\n",
    "#Calling Neural Net Function for 3 different activation functions and 3 different learning rates.\n",
    "sig1, sig_cv1, sig_bar1 = ThreeL_NN(11, 'sigmoid', 200, 0.1)\n",
    "sig2, sig_cv2, sig_bar2 = ThreeL_NN(11, 'sigmoid', 200, 0.01)\n",
    "sig3, sig_cv3, sig_bar3 = ThreeL_NN(11, 'sigmoid', 500, 0.001)\n",
    "\n",
    "relu1, relu_cv1, relu_bar1 = ThreeL_NN(11, 'relu', 200, 0.1)\n",
    "relu2, relu_cv2, relu_bar2 = ThreeL_NN(11, 'relu', 450, 0.01)\n",
    "relu3, relu_cv3, relu_bar3 = ThreeL_NN(11, 'relu', 200, 0.001)\n",
    "\n",
    "elu1, elu_cv1, elu_bar1 = ThreeL_NN(11, 'elu', 500, 0.1)\n",
    "elu2, elu_cv2, elu_bar2 = ThreeL_NN(11, 'elu', 500, 0.01)\n",
    "elu3, elu_cv3, elu_bar3 = ThreeL_NN(11, 'elu', 200, 0.001)\n",
    "\n",
    "#Output\n",
    "R2s = pd.DataFrame({\"Learning Rate\" :[0.1,.01,0.001, 0.1,.01,0.001, 0.1,.01,0.001], \n",
    "               \"R2\":[sig1, sig2, sig3, relu1, relu2, relu3, elu1, elu2, elu3],\n",
    "               \"R2 CV\":[sig_cv1, sig_cv2, sig_cv3, relu_cv1, relu_cv2, relu_cv3, elu_cv1, elu_cv2, elu_cv3],\n",
    "               \"R2 Adjusted\":[sig_bar1,sig_bar2,sig_bar3,relu_bar1,relu_bar2,relu_bar3,elu_bar1,elu_bar2,elu_bar3]},\n",
    "               index = [\"sigm\", \"sigm\", \"sigm\", \"relu\",\"relu\",\"relu\",\"elu\", \"elu\", \"elu\"])\n",
    "R2s"
   ]
  },
  {
   "cell_type": "markdown",
   "id": "76de5c1c",
   "metadata": {},
   "source": [
    "# Forward 3 Layer Models"
   ]
  },
  {
   "cell_type": "code",
   "execution_count": 40,
   "id": "10c31e52",
   "metadata": {},
   "outputs": [
    {
     "data": {
      "text/html": [
       "<div>\n",
       "<style scoped>\n",
       "    .dataframe tbody tr th:only-of-type {\n",
       "        vertical-align: middle;\n",
       "    }\n",
       "\n",
       "    .dataframe tbody tr th {\n",
       "        vertical-align: top;\n",
       "    }\n",
       "\n",
       "    .dataframe thead th {\n",
       "        text-align: right;\n",
       "    }\n",
       "</style>\n",
       "<table border=\"1\" class=\"dataframe\">\n",
       "  <thead>\n",
       "    <tr style=\"text-align: right;\">\n",
       "      <th></th>\n",
       "      <th>Learning Rate</th>\n",
       "      <th>R2</th>\n",
       "      <th>R2 CV</th>\n",
       "      <th>R2 Adjusted</th>\n",
       "    </tr>\n",
       "  </thead>\n",
       "  <tbody>\n",
       "    <tr>\n",
       "      <th>sigm</th>\n",
       "      <td>0.001</td>\n",
       "      <td>0.534392</td>\n",
       "      <td>0.528658</td>\n",
       "      <td>0.533327</td>\n",
       "    </tr>\n",
       "    <tr>\n",
       "      <th>sigm</th>\n",
       "      <td>0.010</td>\n",
       "      <td>0.609030</td>\n",
       "      <td>0.604328</td>\n",
       "      <td>0.608135</td>\n",
       "    </tr>\n",
       "    <tr>\n",
       "      <th>sigm</th>\n",
       "      <td>0.100</td>\n",
       "      <td>0.571907</td>\n",
       "      <td>0.554394</td>\n",
       "      <td>0.570927</td>\n",
       "    </tr>\n",
       "    <tr>\n",
       "      <th>relu</th>\n",
       "      <td>0.001</td>\n",
       "      <td>0.606115</td>\n",
       "      <td>0.587736</td>\n",
       "      <td>0.605214</td>\n",
       "    </tr>\n",
       "    <tr>\n",
       "      <th>relu</th>\n",
       "      <td>0.010</td>\n",
       "      <td>0.642254</td>\n",
       "      <td>0.641509</td>\n",
       "      <td>0.641436</td>\n",
       "    </tr>\n",
       "    <tr>\n",
       "      <th>relu</th>\n",
       "      <td>0.100</td>\n",
       "      <td>0.518436</td>\n",
       "      <td>0.516563</td>\n",
       "      <td>0.517335</td>\n",
       "    </tr>\n",
       "    <tr>\n",
       "      <th>elu</th>\n",
       "      <td>0.001</td>\n",
       "      <td>0.636478</td>\n",
       "      <td>0.616315</td>\n",
       "      <td>0.635646</td>\n",
       "    </tr>\n",
       "    <tr>\n",
       "      <th>elu</th>\n",
       "      <td>0.010</td>\n",
       "      <td>0.665334</td>\n",
       "      <td>0.643841</td>\n",
       "      <td>0.664568</td>\n",
       "    </tr>\n",
       "    <tr>\n",
       "      <th>elu</th>\n",
       "      <td>0.100</td>\n",
       "      <td>0.540374</td>\n",
       "      <td>0.528907</td>\n",
       "      <td>0.539323</td>\n",
       "    </tr>\n",
       "  </tbody>\n",
       "</table>\n",
       "</div>"
      ],
      "text/plain": [
       "      Learning Rate        R2     R2 CV  R2 Adjusted\n",
       "sigm          0.001  0.534392  0.528658     0.533327\n",
       "sigm          0.010  0.609030  0.604328     0.608135\n",
       "sigm          0.100  0.571907  0.554394     0.570927\n",
       "relu          0.001  0.606115  0.587736     0.605214\n",
       "relu          0.010  0.642254  0.641509     0.641436\n",
       "relu          0.100  0.518436  0.516563     0.517335\n",
       "elu           0.001  0.636478  0.616315     0.635646\n",
       "elu           0.010  0.665334  0.643841     0.664568\n",
       "elu           0.100  0.540374  0.528907     0.539323"
      ]
     },
     "execution_count": 40,
     "metadata": {},
     "output_type": "execute_result"
    }
   ],
   "source": [
    "#Selecting features to feed the NN with forward selection and splitting training and testing sets (80/20)\n",
    "reg = LinearRegression() \n",
    "sfs = SequentialFeatureSelector(estimator=reg)\n",
    "sfs.fit(X,y)\n",
    "forward = sfs.transform(X)\n",
    "x_train, y_train = forward[-7006:], (y[-7006:]).to_numpy()\n",
    "x_test, y_test   = forward[:-7006], (y[:-7006]).to_numpy()\n",
    "\n",
    "#Calling Neural Net Function for 3 different activation functions and 3 different learning rates.\n",
    "sig1, sig_cv1, sig_bar1 = ThreeL_NN(5, 'sigmoid', 200, 0.1)\n",
    "sig2, sig_cv2, sig_bar2 = ThreeL_NN(5, 'sigmoid', 200, 0.01)\n",
    "sig3, sig_cv3, sig_bar3 = ThreeL_NN(5, 'sigmoid', 500,0 .001)\n",
    "\n",
    "relu1, relu_cv1, relu_bar1 = ThreeL_NN(5, 'relu', 200, 0.1)\n",
    "relu2, relu_cv2, relu_bar2 = ThreeL_NN(5, 'relu', 450, 0.01)\n",
    "relu3, relu_cv3, relu_bar3 = ThreeL_NN(5, 'relu', 200, 0.001)\n",
    "\n",
    "elu1, elu_cv1, elu_bar1 = ThreeL_NN(5, 'elu', 500, 0.1)\n",
    "elu2, elu_cv2, elu_bar2 = ThreeL_NN(5, 'elu', 500, 0.01)\n",
    "elu3, elu_cv3, elu_bar3 = ThreeL_NN(5, 'elu', 200, 0.001)\n",
    "\n",
    "#Output\n",
    "forward_R2s = pd.DataFrame({\"Learning Rate\" :[0.1,.01,0.001, 0.1,.01,0.001, 0.1,.01,0.001], \n",
    "               \"R2\":[sig1, sig2, sig3, relu1, relu2, relu3, elu1, elu2, elu3],\n",
    "               \"R2 CV\":[sig_cv1, sig_cv2, sig_cv3, relu_cv1, relu_cv2, relu_cv3, elu_cv1, elu_cv2, elu_cv3],\n",
    "               \"R2 Adjusted\":[sig_bar1,sig_bar2,sig_bar3,relu_bar1,relu_bar2,relu_bar3,elu_bar1,elu_bar2,elu_bar3]},\n",
    "               index = [\"sigm\", \"sigm\", \"sigm\", \"relu\",\"relu\",\"relu\",\"elu\", \"elu\", \"elu\"])\n",
    "\n",
    "forward_R2s"
   ]
  },
  {
   "cell_type": "code",
   "execution_count": null,
   "id": "1c236fb8",
   "metadata": {},
   "outputs": [],
   "source": []
  }
 ],
 "metadata": {
  "kernelspec": {
   "display_name": "Python 3 (ipykernel)",
   "language": "python",
   "name": "python3"
  },
  "language_info": {
   "codemirror_mode": {
    "name": "ipython",
    "version": 3
   },
   "file_extension": ".py",
   "mimetype": "text/x-python",
   "name": "python",
   "nbconvert_exporter": "python",
   "pygments_lexer": "ipython3",
   "version": "3.9.7"
  }
 },
 "nbformat": 4,
 "nbformat_minor": 5
}
