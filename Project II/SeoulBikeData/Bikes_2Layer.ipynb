{
 "cells": [
  {
   "cell_type": "code",
   "execution_count": 8,
   "id": "cca4f9e4",
   "metadata": {},
   "outputs": [],
   "source": [
    "from tensorflow.keras.layers import Dense, Input\n",
    "from tensorflow.keras.models import Sequential\n",
    "import pandas as pd\n",
    "import numpy as np\n",
    "import seaborn as sns\n",
    "import matplotlib.pyplot as plt\n",
    "import keras\n",
    "from sklearn.metrics import r2_score\n",
    "from tensorflow.keras.optimizers import Adam\n",
    "from sklearn.feature_selection import SequentialFeatureSelector, RFE\n",
    "from sklearn.linear_model import LinearRegression\n",
    "from tqdm.keras import TqdmCallback\n",
    "\n",
    "#Data Import\n",
    "df = pd.read_csv('Bikes.csv', encoding= 'unicode_escape')\n",
    "X, y = df.drop(['Bikes'], axis =1), df['Bikes']\n",
    "\n",
    "def coeff_determination(y, yhat):\n",
    "    \"\"\" Calculates the R2\"\"\"\n",
    "    from keras import backend as K\n",
    "    SS_res = K.sum(K.square(y-yhat))\n",
    "    SS_tot = K.sum(K.square(y -K.mean(yhat)))\n",
    "    return (1-SS_res/(SS_tot + K.epsilon()))\n",
    "\n",
    "def r2_adjusted(x, r2):\n",
    "    \"\"\"Calculates the R2 Adjusted\"\"\"\n",
    "    #no. instances, params\n",
    "    m, n = x.shape\n",
    "    #calculate r_df\n",
    "    r_df = (m-1)/(m-n)\n",
    "    return 1-(r_df*(1-r2))\n",
    "              \n",
    "def TwoL_NN(num_feat, act, epoch, learnrate):\n",
    "    \"\"\" Creates the Sequential Model as dataset has one output, inputs are placed in the model\n",
    "       then output layer. The optimizer used for the NN is Adam.A plot of MSE vs Epochs and \n",
    "       R2 vs Epochs is printed at the end. R2, R2 Bar and R2 CV are returned.\n",
    "    \"\"\"\n",
    "    model = Sequential()\n",
    "    model.add(Input(shape=(num_feat,)))         #Input Layer\n",
    "    model.add(Dense(units=1))                   #Output Layer\n",
    "    optimizer = Adam(learning_rate=learnrate)   #Adam used as Optimizer\n",
    "    model.compile(optimizer=optimizer, loss='mse', metrics=['mse', coeff_determination])\n",
    "    fit_model = model.fit(x=x_train, y=y_train, epochs=epoch, batch_size=32, validation_split=0.2, verbose=0, callbacks=[TqdmCallback()])\n",
    "    plt.clf()\n",
    "    plt.plot([i for i in range(epoch)], fit_model.history['mse'], label=\"mse\")\n",
    "    plt.title(f\"{act}: {learnrate}\")\n",
    "    plt.legend()\n",
    "    plt.show()\n",
    "    plt.plot([i for i in range(epoch)], fit_model.history['coeff_determination'], label=\"R2\")\n",
    "    plt.legend()\n",
    "    return (fit_model.history['coeff_determination'][-1], r2_score(y_test, model(x_test)), r2_adjusted(x_train,fit_model.history['coeff_determination'][-1]))"
   ]
  },
  {
   "cell_type": "markdown",
   "id": "87ef8f44",
   "metadata": {},
   "source": [
    "# 2 Layer Model"
   ]
  },
  {
   "cell_type": "code",
   "execution_count": 9,
   "id": "538545eb",
   "metadata": {},
   "outputs": [
    {
     "data": {
      "application/vnd.jupyter.widget-view+json": {
       "model_id": "39ff80b51ae6497eae6f3594ab1085f2",
       "version_major": 2,
       "version_minor": 0
      },
      "text/plain": [
       "0epoch [00:00, ?epoch/s]"
      ]
     },
     "metadata": {},
     "output_type": "display_data"
    },
    {
     "data": {
      "application/vnd.jupyter.widget-view+json": {
       "model_id": "",
       "version_major": 2,
       "version_minor": 0
      },
      "text/plain": [
       "0batch [00:00, ?batch/s]"
      ]
     },
     "metadata": {},
     "output_type": "display_data"
    },
    {
     "data": {
      "application/vnd.jupyter.widget-view+json": {
       "model_id": "a1271a1368dd46b98cc75a5c1928f0eb",
       "version_major": 2,
       "version_minor": 0
      },
      "text/plain": [
       "0epoch [00:00, ?epoch/s]"
      ]
     },
     "metadata": {},
     "output_type": "display_data"
    },
    {
     "data": {
      "application/vnd.jupyter.widget-view+json": {
       "model_id": "",
       "version_major": 2,
       "version_minor": 0
      },
      "text/plain": [
       "0batch [00:00, ?batch/s]"
      ]
     },
     "metadata": {},
     "output_type": "display_data"
    },
    {
     "data": {
      "application/vnd.jupyter.widget-view+json": {
       "model_id": "4f4989e1ada94ed382380e9fdc8c57cf",
       "version_major": 2,
       "version_minor": 0
      },
      "text/plain": [
       "0epoch [00:00, ?epoch/s]"
      ]
     },
     "metadata": {},
     "output_type": "display_data"
    },
    {
     "data": {
      "application/vnd.jupyter.widget-view+json": {
       "model_id": "",
       "version_major": 2,
       "version_minor": 0
      },
      "text/plain": [
       "0batch [00:00, ?batch/s]"
      ]
     },
     "metadata": {},
     "output_type": "display_data"
    },
    {
     "data": {
      "application/vnd.jupyter.widget-view+json": {
       "model_id": "9c9d64b63fcf4760a4dd12fa54a7a21b",
       "version_major": 2,
       "version_minor": 0
      },
      "text/plain": [
       "0epoch [00:00, ?epoch/s]"
      ]
     },
     "metadata": {},
     "output_type": "display_data"
    },
    {
     "data": {
      "application/vnd.jupyter.widget-view+json": {
       "model_id": "",
       "version_major": 2,
       "version_minor": 0
      },
      "text/plain": [
       "0batch [00:00, ?batch/s]"
      ]
     },
     "metadata": {},
     "output_type": "display_data"
    },
    {
     "data": {
      "application/vnd.jupyter.widget-view+json": {
       "model_id": "2324c114ae594dec95ab1380383f93ca",
       "version_major": 2,
       "version_minor": 0
      },
      "text/plain": [
       "0epoch [00:00, ?epoch/s]"
      ]
     },
     "metadata": {},
     "output_type": "display_data"
    },
    {
     "data": {
      "application/vnd.jupyter.widget-view+json": {
       "model_id": "",
       "version_major": 2,
       "version_minor": 0
      },
      "text/plain": [
       "0batch [00:00, ?batch/s]"
      ]
     },
     "metadata": {},
     "output_type": "display_data"
    },
    {
     "data": {
      "application/vnd.jupyter.widget-view+json": {
       "model_id": "bb9baf7f37af4c84bdd2e3f7540445b0",
       "version_major": 2,
       "version_minor": 0
      },
      "text/plain": [
       "0epoch [00:00, ?epoch/s]"
      ]
     },
     "metadata": {},
     "output_type": "display_data"
    },
    {
     "data": {
      "application/vnd.jupyter.widget-view+json": {
       "model_id": "",
       "version_major": 2,
       "version_minor": 0
      },
      "text/plain": [
       "0batch [00:00, ?batch/s]"
      ]
     },
     "metadata": {},
     "output_type": "display_data"
    },
    {
     "data": {
      "application/vnd.jupyter.widget-view+json": {
       "model_id": "5655b73d29c1472db90a6db4ec4b6353",
       "version_major": 2,
       "version_minor": 0
      },
      "text/plain": [
       "0epoch [00:00, ?epoch/s]"
      ]
     },
     "metadata": {},
     "output_type": "display_data"
    },
    {
     "data": {
      "application/vnd.jupyter.widget-view+json": {
       "model_id": "",
       "version_major": 2,
       "version_minor": 0
      },
      "text/plain": [
       "0batch [00:00, ?batch/s]"
      ]
     },
     "metadata": {},
     "output_type": "display_data"
    },
    {
     "data": {
      "application/vnd.jupyter.widget-view+json": {
       "model_id": "245acf2ca5e64b9e9db1849473804e06",
       "version_major": 2,
       "version_minor": 0
      },
      "text/plain": [
       "0epoch [00:00, ?epoch/s]"
      ]
     },
     "metadata": {},
     "output_type": "display_data"
    },
    {
     "data": {
      "application/vnd.jupyter.widget-view+json": {
       "model_id": "",
       "version_major": 2,
       "version_minor": 0
      },
      "text/plain": [
       "0batch [00:00, ?batch/s]"
      ]
     },
     "metadata": {},
     "output_type": "display_data"
    },
    {
     "data": {
      "application/vnd.jupyter.widget-view+json": {
       "model_id": "b9e826f992f34084b21ca0b63fc57a60",
       "version_major": 2,
       "version_minor": 0
      },
      "text/plain": [
       "0epoch [00:00, ?epoch/s]"
      ]
     },
     "metadata": {},
     "output_type": "display_data"
    },
    {
     "data": {
      "application/vnd.jupyter.widget-view+json": {
       "model_id": "",
       "version_major": 2,
       "version_minor": 0
      },
      "text/plain": [
       "0batch [00:00, ?batch/s]"
      ]
     },
     "metadata": {},
     "output_type": "display_data"
    },
    {
     "data": {
      "text/html": [
       "<div>\n",
       "<style scoped>\n",
       "    .dataframe tbody tr th:only-of-type {\n",
       "        vertical-align: middle;\n",
       "    }\n",
       "\n",
       "    .dataframe tbody tr th {\n",
       "        vertical-align: top;\n",
       "    }\n",
       "\n",
       "    .dataframe thead th {\n",
       "        text-align: right;\n",
       "    }\n",
       "</style>\n",
       "<table border=\"1\" class=\"dataframe\">\n",
       "  <thead>\n",
       "    <tr style=\"text-align: right;\">\n",
       "      <th></th>\n",
       "      <th>Learning Rate</th>\n",
       "      <th>R2</th>\n",
       "      <th>R2 CV</th>\n",
       "      <th>R2 Adjusted</th>\n",
       "    </tr>\n",
       "  </thead>\n",
       "  <tbody>\n",
       "    <tr>\n",
       "      <th>sigm</th>\n",
       "      <td>0.001</td>\n",
       "      <td>0.452911</td>\n",
       "      <td>0.456469</td>\n",
       "      <td>0.452129</td>\n",
       "    </tr>\n",
       "    <tr>\n",
       "      <th>sigm</th>\n",
       "      <td>0.010</td>\n",
       "      <td>0.457368</td>\n",
       "      <td>0.459942</td>\n",
       "      <td>0.456593</td>\n",
       "    </tr>\n",
       "    <tr>\n",
       "      <th>sigm</th>\n",
       "      <td>0.100</td>\n",
       "      <td>0.411292</td>\n",
       "      <td>0.420540</td>\n",
       "      <td>0.410450</td>\n",
       "    </tr>\n",
       "    <tr>\n",
       "      <th>relu</th>\n",
       "      <td>0.001</td>\n",
       "      <td>0.459215</td>\n",
       "      <td>0.450429</td>\n",
       "      <td>0.458442</td>\n",
       "    </tr>\n",
       "    <tr>\n",
       "      <th>relu</th>\n",
       "      <td>0.010</td>\n",
       "      <td>0.461984</td>\n",
       "      <td>0.463735</td>\n",
       "      <td>0.461215</td>\n",
       "    </tr>\n",
       "    <tr>\n",
       "      <th>relu</th>\n",
       "      <td>0.100</td>\n",
       "      <td>0.448571</td>\n",
       "      <td>0.449919</td>\n",
       "      <td>0.447782</td>\n",
       "    </tr>\n",
       "    <tr>\n",
       "      <th>elu</th>\n",
       "      <td>0.001</td>\n",
       "      <td>0.457950</td>\n",
       "      <td>0.455129</td>\n",
       "      <td>0.457175</td>\n",
       "    </tr>\n",
       "    <tr>\n",
       "      <th>elu</th>\n",
       "      <td>0.010</td>\n",
       "      <td>0.460305</td>\n",
       "      <td>0.461319</td>\n",
       "      <td>0.459534</td>\n",
       "    </tr>\n",
       "    <tr>\n",
       "      <th>elu</th>\n",
       "      <td>0.100</td>\n",
       "      <td>0.449200</td>\n",
       "      <td>0.449487</td>\n",
       "      <td>0.448412</td>\n",
       "    </tr>\n",
       "  </tbody>\n",
       "</table>\n",
       "</div>"
      ],
      "text/plain": [
       "      Learning Rate        R2     R2 CV  R2 Adjusted\n",
       "sigm          0.001  0.452911  0.456469     0.452129\n",
       "sigm          0.010  0.457368  0.459942     0.456593\n",
       "sigm          0.100  0.411292  0.420540     0.410450\n",
       "relu          0.001  0.459215  0.450429     0.458442\n",
       "relu          0.010  0.461984  0.463735     0.461215\n",
       "relu          0.100  0.448571  0.449919     0.447782\n",
       "elu           0.001  0.457950  0.455129     0.457175\n",
       "elu           0.010  0.460305  0.461319     0.459534\n",
       "elu           0.100  0.449200  0.449487     0.448412"
      ]
     },
     "execution_count": 9,
     "metadata": {},
     "output_type": "execute_result"
    }
   ],
   "source": [
    "#Splitting training and testing sets (80/20)\n",
    "x_train, y_train = X[-7006:].to_numpy(), (y[-7006:]).to_numpy()\n",
    "x_test, y_test   = X[:-7006].to_numpy(), (y[:-7006]).to_numpy()\n",
    "\n",
    "#Calling Neural Net Function for 3 different activation functions and 3 different learning rates.\n",
    "sig1, sig_cv1, sig_bar1 = TwoL_NN(11, 'sigmoid', 200, 0.1)\n",
    "sig2, sig_cv2, sig_bar2 = TwoL_NN(11, 'sigmoid', 200, 0.01)\n",
    "sig3, sig_cv3, sig_bar3 = TwoL_NN(11, 'sigmoid', 200, 0.001)\n",
    "\n",
    "relu1, relu_cv1, relu_bar1 = TwoL_NN(11, 'relu', 200, 0.1)\n",
    "relu2, relu_cv2, relu_bar2 = TwoL_NN(11, 'relu', 200, 0.01)\n",
    "relu3, relu_cv3, relu_bar3 = TwoL_NN(11, 'relu', 500,  0.001)\n",
    "\n",
    "elu1, elu_cv1, elu_bar1 = TwoL_NN(11, 'elu', 200, 0.1)\n",
    "elu2, elu_cv2, elu_bar2 = TwoL_NN(11, 'elu', 200, 0.01)\n",
    "elu3, elu_cv3, elu_bar3 = TwoL_NN(11, 'elu', 500, 0.001)\n",
    "\n",
    "#Output\n",
    "R2s = pd.DataFrame({\"Learning Rate\" :[0.1,.01,0.001, 0.1,.01,0.001, 0.1,.01,0.001], \n",
    "               \"R2\":[sig1, sig2, sig3, relu1, relu2, relu3, elu1, elu2, elu3],\n",
    "               \"R2 CV\":[sig_cv1, sig_cv2, sig_cv3, relu_cv1, relu_cv2, relu_cv3, elu_cv1, elu_cv2, elu_cv3],\n",
    "               \"R2 Adjusted\":[sig_bar1,sig_bar2,sig_bar3,relu_bar1,relu_bar2,relu_bar3,elu_bar1,elu_bar2,elu_bar3]},\n",
    "               index = [\"sigm\", \"sigm\", \"sigm\", \"relu\",\"relu\",\"relu\",\"elu\", \"elu\", \"elu\"])\n",
    "R2s"
   ]
  },
  {
   "cell_type": "markdown",
   "id": "1b84fd5a",
   "metadata": {},
   "source": [
    "# Forward 2 Layer Model"
   ]
  },
  {
   "cell_type": "code",
   "execution_count": 11,
   "id": "f4e98612",
   "metadata": {},
   "outputs": [
    {
     "data": {
      "application/vnd.jupyter.widget-view+json": {
       "model_id": "921ca3f33e3e4394858ae592fceefda2",
       "version_major": 2,
       "version_minor": 0
      },
      "text/plain": [
       "0epoch [00:00, ?epoch/s]"
      ]
     },
     "metadata": {},
     "output_type": "display_data"
    },
    {
     "data": {
      "application/vnd.jupyter.widget-view+json": {
       "model_id": "",
       "version_major": 2,
       "version_minor": 0
      },
      "text/plain": [
       "0batch [00:00, ?batch/s]"
      ]
     },
     "metadata": {},
     "output_type": "display_data"
    },
    {
     "data": {
      "application/vnd.jupyter.widget-view+json": {
       "model_id": "146928bc335a491fb5ae81ab08896efb",
       "version_major": 2,
       "version_minor": 0
      },
      "text/plain": [
       "0epoch [00:00, ?epoch/s]"
      ]
     },
     "metadata": {},
     "output_type": "display_data"
    },
    {
     "data": {
      "application/vnd.jupyter.widget-view+json": {
       "model_id": "",
       "version_major": 2,
       "version_minor": 0
      },
      "text/plain": [
       "0batch [00:00, ?batch/s]"
      ]
     },
     "metadata": {},
     "output_type": "display_data"
    },
    {
     "name": "stdout",
     "output_type": "stream",
     "text": [
      "WARNING:tensorflow:Callback method `on_train_batch_end` is slow compared to the batch time (batch time: 0.0007s vs `on_train_batch_end` time: 0.0011s). Check your callbacks.\n"
     ]
    },
    {
     "data": {
      "application/vnd.jupyter.widget-view+json": {
       "model_id": "8dd57394b14748a18e94681e0c53b9e9",
       "version_major": 2,
       "version_minor": 0
      },
      "text/plain": [
       "0epoch [00:00, ?epoch/s]"
      ]
     },
     "metadata": {},
     "output_type": "display_data"
    },
    {
     "data": {
      "application/vnd.jupyter.widget-view+json": {
       "model_id": "",
       "version_major": 2,
       "version_minor": 0
      },
      "text/plain": [
       "0batch [00:00, ?batch/s]"
      ]
     },
     "metadata": {},
     "output_type": "display_data"
    },
    {
     "data": {
      "application/vnd.jupyter.widget-view+json": {
       "model_id": "67135488ac934afc95ab72365883e66a",
       "version_major": 2,
       "version_minor": 0
      },
      "text/plain": [
       "0epoch [00:00, ?epoch/s]"
      ]
     },
     "metadata": {},
     "output_type": "display_data"
    },
    {
     "data": {
      "application/vnd.jupyter.widget-view+json": {
       "model_id": "",
       "version_major": 2,
       "version_minor": 0
      },
      "text/plain": [
       "0batch [00:00, ?batch/s]"
      ]
     },
     "metadata": {},
     "output_type": "display_data"
    },
    {
     "name": "stdout",
     "output_type": "stream",
     "text": [
      "WARNING:tensorflow:Callback method `on_train_batch_end` is slow compared to the batch time (batch time: 0.0006s vs `on_train_batch_end` time: 0.0007s). Check your callbacks.\n"
     ]
    },
    {
     "data": {
      "application/vnd.jupyter.widget-view+json": {
       "model_id": "39967f91b0dc4163bb67b8c29acb8a97",
       "version_major": 2,
       "version_minor": 0
      },
      "text/plain": [
       "0epoch [00:00, ?epoch/s]"
      ]
     },
     "metadata": {},
     "output_type": "display_data"
    },
    {
     "data": {
      "application/vnd.jupyter.widget-view+json": {
       "model_id": "",
       "version_major": 2,
       "version_minor": 0
      },
      "text/plain": [
       "0batch [00:00, ?batch/s]"
      ]
     },
     "metadata": {},
     "output_type": "display_data"
    },
    {
     "data": {
      "application/vnd.jupyter.widget-view+json": {
       "model_id": "f3732be983674fba82ebe437217f5f75",
       "version_major": 2,
       "version_minor": 0
      },
      "text/plain": [
       "0epoch [00:00, ?epoch/s]"
      ]
     },
     "metadata": {},
     "output_type": "display_data"
    },
    {
     "data": {
      "application/vnd.jupyter.widget-view+json": {
       "model_id": "",
       "version_major": 2,
       "version_minor": 0
      },
      "text/plain": [
       "0batch [00:00, ?batch/s]"
      ]
     },
     "metadata": {},
     "output_type": "display_data"
    },
    {
     "data": {
      "application/vnd.jupyter.widget-view+json": {
       "model_id": "bf2d10d517004deda621a2e92c55cf72",
       "version_major": 2,
       "version_minor": 0
      },
      "text/plain": [
       "0epoch [00:00, ?epoch/s]"
      ]
     },
     "metadata": {},
     "output_type": "display_data"
    },
    {
     "data": {
      "application/vnd.jupyter.widget-view+json": {
       "model_id": "",
       "version_major": 2,
       "version_minor": 0
      },
      "text/plain": [
       "0batch [00:00, ?batch/s]"
      ]
     },
     "metadata": {},
     "output_type": "display_data"
    },
    {
     "data": {
      "application/vnd.jupyter.widget-view+json": {
       "model_id": "5dcd5ab14a3b40d18e2512f65c51f0c3",
       "version_major": 2,
       "version_minor": 0
      },
      "text/plain": [
       "0epoch [00:00, ?epoch/s]"
      ]
     },
     "metadata": {},
     "output_type": "display_data"
    },
    {
     "data": {
      "application/vnd.jupyter.widget-view+json": {
       "model_id": "",
       "version_major": 2,
       "version_minor": 0
      },
      "text/plain": [
       "0batch [00:00, ?batch/s]"
      ]
     },
     "metadata": {},
     "output_type": "display_data"
    },
    {
     "data": {
      "application/vnd.jupyter.widget-view+json": {
       "model_id": "70001edfc86e4ad7bc050026596b957e",
       "version_major": 2,
       "version_minor": 0
      },
      "text/plain": [
       "0epoch [00:00, ?epoch/s]"
      ]
     },
     "metadata": {},
     "output_type": "display_data"
    },
    {
     "data": {
      "application/vnd.jupyter.widget-view+json": {
       "model_id": "",
       "version_major": 2,
       "version_minor": 0
      },
      "text/plain": [
       "0batch [00:00, ?batch/s]"
      ]
     },
     "metadata": {},
     "output_type": "display_data"
    },
    {
     "data": {
      "text/html": [
       "<div>\n",
       "<style scoped>\n",
       "    .dataframe tbody tr th:only-of-type {\n",
       "        vertical-align: middle;\n",
       "    }\n",
       "\n",
       "    .dataframe tbody tr th {\n",
       "        vertical-align: top;\n",
       "    }\n",
       "\n",
       "    .dataframe thead th {\n",
       "        text-align: right;\n",
       "    }\n",
       "</style>\n",
       "<table border=\"1\" class=\"dataframe\">\n",
       "  <thead>\n",
       "    <tr style=\"text-align: right;\">\n",
       "      <th></th>\n",
       "      <th>Learning Rate</th>\n",
       "      <th>R2</th>\n",
       "      <th>R2 CV</th>\n",
       "      <th>R2 Adjusted</th>\n",
       "    </tr>\n",
       "  </thead>\n",
       "  <tbody>\n",
       "    <tr>\n",
       "      <th>sigm</th>\n",
       "      <td>0.001</td>\n",
       "      <td>0.455398</td>\n",
       "      <td>0.453744</td>\n",
       "      <td>0.455087</td>\n",
       "    </tr>\n",
       "    <tr>\n",
       "      <th>sigm</th>\n",
       "      <td>0.010</td>\n",
       "      <td>0.453013</td>\n",
       "      <td>0.454573</td>\n",
       "      <td>0.452701</td>\n",
       "    </tr>\n",
       "    <tr>\n",
       "      <th>sigm</th>\n",
       "      <td>0.100</td>\n",
       "      <td>0.439482</td>\n",
       "      <td>0.446831</td>\n",
       "      <td>0.439162</td>\n",
       "    </tr>\n",
       "    <tr>\n",
       "      <th>relu</th>\n",
       "      <td>0.001</td>\n",
       "      <td>0.466396</td>\n",
       "      <td>0.458654</td>\n",
       "      <td>0.466091</td>\n",
       "    </tr>\n",
       "    <tr>\n",
       "      <th>relu</th>\n",
       "      <td>0.010</td>\n",
       "      <td>0.457598</td>\n",
       "      <td>0.454473</td>\n",
       "      <td>0.457288</td>\n",
       "    </tr>\n",
       "    <tr>\n",
       "      <th>relu</th>\n",
       "      <td>0.100</td>\n",
       "      <td>0.442403</td>\n",
       "      <td>0.447147</td>\n",
       "      <td>0.442085</td>\n",
       "    </tr>\n",
       "    <tr>\n",
       "      <th>elu</th>\n",
       "      <td>0.001</td>\n",
       "      <td>0.463578</td>\n",
       "      <td>0.458433</td>\n",
       "      <td>0.463272</td>\n",
       "    </tr>\n",
       "    <tr>\n",
       "      <th>elu</th>\n",
       "      <td>0.010</td>\n",
       "      <td>0.460512</td>\n",
       "      <td>0.454121</td>\n",
       "      <td>0.460203</td>\n",
       "    </tr>\n",
       "    <tr>\n",
       "      <th>elu</th>\n",
       "      <td>0.100</td>\n",
       "      <td>0.447832</td>\n",
       "      <td>0.446999</td>\n",
       "      <td>0.447517</td>\n",
       "    </tr>\n",
       "  </tbody>\n",
       "</table>\n",
       "</div>"
      ],
      "text/plain": [
       "      Learning Rate        R2     R2 CV  R2 Adjusted\n",
       "sigm          0.001  0.455398  0.453744     0.455087\n",
       "sigm          0.010  0.453013  0.454573     0.452701\n",
       "sigm          0.100  0.439482  0.446831     0.439162\n",
       "relu          0.001  0.466396  0.458654     0.466091\n",
       "relu          0.010  0.457598  0.454473     0.457288\n",
       "relu          0.100  0.442403  0.447147     0.442085\n",
       "elu           0.001  0.463578  0.458433     0.463272\n",
       "elu           0.010  0.460512  0.454121     0.460203\n",
       "elu           0.100  0.447832  0.446999     0.447517"
      ]
     },
     "execution_count": 11,
     "metadata": {},
     "output_type": "execute_result"
    }
   ],
   "source": [
    "#Selecting features to feed the NN with forward selection and splitting training and testing sets (80/20)\n",
    "reg = LinearRegression() \n",
    "sfs = SequentialFeatureSelector(estimator=reg)\n",
    "sfs.fit(X,y)\n",
    "forward = sfs.transform(X)\n",
    "x_train, y_train = forward[-7006:], (y[-7006:]).to_numpy()\n",
    "x_test, y_test   = forward[:-7006], (y[:-7006]).to_numpy()\n",
    "\n",
    "#Calling Neural Net Function for 3 different activation functions and 3 different learning rates.\n",
    "sig1, sig_cv1, sig_bar1 = TwoL_NN(5, 'sigmoid', 200, 0.1)\n",
    "sig2, sig_cv2, sig_bar2 = TwoL_NN(5, 'sigmoid', 200, 0.01)\n",
    "sig3, sig_cv3, sig_bar3 = TwoL_NN(5, 'sigmoid', 500, 0.001)\n",
    "\n",
    "relu1, relu_cv1, relu_bar1 = TwoL_NN(5, 'relu', 200, 0.1)\n",
    "relu2, relu_cv2, relu_bar2 = TwoL_NN(5, 'relu', 200, 0.01)\n",
    "relu3, relu_cv3, relu_bar3 = TwoL_NN(5, 'relu', 500, 0.001)\n",
    "\n",
    "elu1, elu_cv1, elu_bar1 = TwoL_NN(5, 'elu', 200, 0.1)\n",
    "elu2, elu_cv2, elu_bar2 = TwoL_NN(5, 'elu', 200, 0.01)\n",
    "elu3, elu_cv3, elu_bar3 = TwoL_NN(5, 'elu', 500, 0.001)\n",
    "\n",
    "#Output\n",
    "forward_R2s = pd.DataFrame({\"Learning Rate\" :[0.1,.01,0.001, 0.1,.01,0.001, 0.1,.01,0.001], \n",
    "               \"R2\":[sig1, sig2, sig3, relu1, relu2, relu3, elu1, elu2, elu3],\n",
    "               \"R2 CV\":[sig_cv1, sig_cv2, sig_cv3, relu_cv1, relu_cv2, relu_cv3, elu_cv1, elu_cv2, elu_cv3],\n",
    "               \"R2 Adjusted\":[sig_bar1,sig_bar2,sig_bar3,relu_bar1,relu_bar2,relu_bar3,elu_bar1,elu_bar2,elu_bar3]},\n",
    "               index = [\"sigm\", \"sigm\", \"sigm\", \"relu\",\"relu\",\"relu\",\"elu\", \"elu\", \"elu\"])\n",
    "\n",
    "forward_R2s"
   ]
  },
  {
   "cell_type": "code",
   "execution_count": null,
   "id": "cccc2428",
   "metadata": {},
   "outputs": [],
   "source": []
  }
 ],
 "metadata": {
  "kernelspec": {
   "display_name": "Python 3 (ipykernel)",
   "language": "python",
   "name": "python3"
  },
  "language_info": {
   "codemirror_mode": {
    "name": "ipython",
    "version": 3
   },
   "file_extension": ".py",
   "mimetype": "text/x-python",
   "name": "python",
   "nbconvert_exporter": "python",
   "pygments_lexer": "ipython3",
   "version": "3.9.7"
  }
 },
 "nbformat": 4,
 "nbformat_minor": 5
}
